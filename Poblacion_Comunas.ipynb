{
 "cells": [
  {
   "cell_type": "markdown",
   "metadata": {},
   "source": [
    "# Obtencion de los datos de la poblacion por comunas "
   ]
  },
  {
   "cell_type": "markdown",
   "metadata": {},
   "source": [
    "Con el objetivo de llevar a cabo un análisis efectivo de los KPIs, se ha emprendido la tarea de recopilar información completa sobre la población de las comunas a lo largo de los años. Para lograr esto, se ha llevado a cabo una exhaustiva búsqueda en internet para obtener datos actualizados sobre la evolución demográfica de cada comuna, así como del conjunto de la Ciudad de Buenos Aires. Este segmento del proceso se enfoca en la precisa carga de estos datos, fundamental para la creación subsiguiente del dashboard."
   ]
  }
 ],
 "metadata": {
  "language_info": {
   "name": "python"
  }
 },
 "nbformat": 4,
 "nbformat_minor": 2
}

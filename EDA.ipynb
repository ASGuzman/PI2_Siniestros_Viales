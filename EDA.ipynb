{
 "cells": [
  {
   "cell_type": "markdown",
   "metadata": {},
   "source": [
    "# Analisis Exploratorio de Datos"
   ]
  },
  {
   "cell_type": "markdown",
   "metadata": {},
   "source": [
    "Mediante la exploración detallada de un extenso conjunto de datos proporcionado por el Observatorio de Movilidad y Seguridad Vial (OMSV), se busca identificar patrones, tendencias y factores clave que contribuyen a la ocurrencia de siniestros y a la gravedad de sus consecuencias. Este análisis preliminar no solo sienta las bases para el diseño del dashboard y la definición de KPIs, sino que también ofrece perspectivas críticas que respaldarán la formulación de políticas efectivas y medidas preventivas para reducir el número de víctimas fatales en siniestros viales en la ciudad."
   ]
  },
  {
   "cell_type": "markdown",
   "metadata": {},
   "source": [
    "## 0. Importamos librerias"
   ]
  },
  {
   "cell_type": "code",
   "execution_count": 80,
   "metadata": {},
   "outputs": [],
   "source": [
    "import pandas as pd\n",
    "import calendar\n",
    "import seaborn as sns\n",
    "import matplotlib.pyplot as plt\n",
    "from datetime import datetime\n",
    "import warnings\n",
    "warnings.filterwarnings(\"ignore\")"
   ]
  },
  {
   "cell_type": "markdown",
   "metadata": {},
   "source": [
    "## 1. Obtencion de datos"
   ]
  },
  {
   "cell_type": "code",
   "execution_count": 81,
   "metadata": {},
   "outputs": [],
   "source": [
    "df_siniestros = pd.read_csv(\"Datasets/df_siniestros.csv\")"
   ]
  },
  {
   "cell_type": "markdown",
   "metadata": {},
   "source": [
    "## 2. Exploracion Inicial"
   ]
  },
  {
   "cell_type": "markdown",
   "metadata": {},
   "source": [
    "### 2A. Examinamos las primeras filas del dataframe para entender la estructura"
   ]
  },
  {
   "cell_type": "code",
   "execution_count": 82,
   "metadata": {},
   "outputs": [
    {
     "data": {
      "text/html": [
       "<div>\n",
       "<style scoped>\n",
       "    .dataframe tbody tr th:only-of-type {\n",
       "        vertical-align: middle;\n",
       "    }\n",
       "\n",
       "    .dataframe tbody tr th {\n",
       "        vertical-align: top;\n",
       "    }\n",
       "\n",
       "    .dataframe thead th {\n",
       "        text-align: right;\n",
       "    }\n",
       "</style>\n",
       "<table border=\"1\" class=\"dataframe\">\n",
       "  <thead>\n",
       "    <tr style=\"text-align: right;\">\n",
       "      <th></th>\n",
       "      <th>Id</th>\n",
       "      <th>Nro Victimas</th>\n",
       "      <th>Fecha</th>\n",
       "      <th>Año</th>\n",
       "      <th>Mes</th>\n",
       "      <th>Dia</th>\n",
       "      <th>Hora</th>\n",
       "      <th>Franja Horaria</th>\n",
       "      <th>Lugar</th>\n",
       "      <th>Tipo Calle</th>\n",
       "      <th>...</th>\n",
       "      <th>Longitud</th>\n",
       "      <th>Latitud</th>\n",
       "      <th>Participantes</th>\n",
       "      <th>Victima</th>\n",
       "      <th>Acusado</th>\n",
       "      <th>DiaSemana</th>\n",
       "      <th>MomentoDia</th>\n",
       "      <th>Rol</th>\n",
       "      <th>Sexo</th>\n",
       "      <th>Edad</th>\n",
       "    </tr>\n",
       "  </thead>\n",
       "  <tbody>\n",
       "    <tr>\n",
       "      <th>0</th>\n",
       "      <td>2016-0001</td>\n",
       "      <td>1</td>\n",
       "      <td>2016-01-01</td>\n",
       "      <td>2016</td>\n",
       "      <td>1</td>\n",
       "      <td>1</td>\n",
       "      <td>04:00:00</td>\n",
       "      <td>4</td>\n",
       "      <td>AV PIEDRA BUENA Y AV FERNANDEZ DE LA CRUZ</td>\n",
       "      <td>AVENIDA</td>\n",
       "      <td>...</td>\n",
       "      <td>-58.475340</td>\n",
       "      <td>-34.687570</td>\n",
       "      <td>MOTO-AUTO</td>\n",
       "      <td>MOTO</td>\n",
       "      <td>AUTO</td>\n",
       "      <td>Viernes</td>\n",
       "      <td>Madrugada</td>\n",
       "      <td>CONDUCTOR</td>\n",
       "      <td>MASCULINO</td>\n",
       "      <td>19.0</td>\n",
       "    </tr>\n",
       "    <tr>\n",
       "      <th>1</th>\n",
       "      <td>2016-0002</td>\n",
       "      <td>1</td>\n",
       "      <td>2016-01-02</td>\n",
       "      <td>2016</td>\n",
       "      <td>1</td>\n",
       "      <td>2</td>\n",
       "      <td>01:15:00</td>\n",
       "      <td>1</td>\n",
       "      <td>AV GRAL PAZ  Y AV DE LOS CORRALES</td>\n",
       "      <td>AUTOPISTA</td>\n",
       "      <td>...</td>\n",
       "      <td>-58.508775</td>\n",
       "      <td>-34.669777</td>\n",
       "      <td>AUTO-PASAJEROS</td>\n",
       "      <td>AUTO</td>\n",
       "      <td>PASAJEROS</td>\n",
       "      <td>Sábado</td>\n",
       "      <td>Madrugada</td>\n",
       "      <td>CONDUCTOR</td>\n",
       "      <td>MASCULINO</td>\n",
       "      <td>70.0</td>\n",
       "    </tr>\n",
       "    <tr>\n",
       "      <th>2</th>\n",
       "      <td>2016-0003</td>\n",
       "      <td>1</td>\n",
       "      <td>2016-01-03</td>\n",
       "      <td>2016</td>\n",
       "      <td>1</td>\n",
       "      <td>3</td>\n",
       "      <td>07:00:00</td>\n",
       "      <td>7</td>\n",
       "      <td>AV ENTRE RIOS 2034</td>\n",
       "      <td>AVENIDA</td>\n",
       "      <td>...</td>\n",
       "      <td>-58.390403</td>\n",
       "      <td>-34.631894</td>\n",
       "      <td>MOTO-AUTO</td>\n",
       "      <td>MOTO</td>\n",
       "      <td>AUTO</td>\n",
       "      <td>Domingo</td>\n",
       "      <td>Mañana</td>\n",
       "      <td>CONDUCTOR</td>\n",
       "      <td>MASCULINO</td>\n",
       "      <td>30.0</td>\n",
       "    </tr>\n",
       "    <tr>\n",
       "      <th>3</th>\n",
       "      <td>2016-0004</td>\n",
       "      <td>1</td>\n",
       "      <td>2016-01-10</td>\n",
       "      <td>2016</td>\n",
       "      <td>1</td>\n",
       "      <td>10</td>\n",
       "      <td>00:00:00</td>\n",
       "      <td>0</td>\n",
       "      <td>AV LARRAZABAL Y GRAL VILLEGAS CONRADO</td>\n",
       "      <td>AVENIDA</td>\n",
       "      <td>...</td>\n",
       "      <td>-58.465039</td>\n",
       "      <td>-34.680930</td>\n",
       "      <td>MOTO-SD</td>\n",
       "      <td>MOTO</td>\n",
       "      <td>SD</td>\n",
       "      <td>Domingo</td>\n",
       "      <td>Madrugada</td>\n",
       "      <td>CONDUCTOR</td>\n",
       "      <td>MASCULINO</td>\n",
       "      <td>18.0</td>\n",
       "    </tr>\n",
       "    <tr>\n",
       "      <th>4</th>\n",
       "      <td>2016-0005</td>\n",
       "      <td>1</td>\n",
       "      <td>2016-01-21</td>\n",
       "      <td>2016</td>\n",
       "      <td>1</td>\n",
       "      <td>21</td>\n",
       "      <td>05:20:00</td>\n",
       "      <td>5</td>\n",
       "      <td>AV SAN JUAN Y PRESIDENTE LUIS SAENZ PEÑA</td>\n",
       "      <td>AVENIDA</td>\n",
       "      <td>...</td>\n",
       "      <td>-58.387183</td>\n",
       "      <td>-34.622466</td>\n",
       "      <td>MOTO-PASAJEROS</td>\n",
       "      <td>MOTO</td>\n",
       "      <td>PASAJEROS</td>\n",
       "      <td>Jueves</td>\n",
       "      <td>Madrugada</td>\n",
       "      <td>CONDUCTOR</td>\n",
       "      <td>MASCULINO</td>\n",
       "      <td>29.0</td>\n",
       "    </tr>\n",
       "  </tbody>\n",
       "</table>\n",
       "<p>5 rows × 24 columns</p>\n",
       "</div>"
      ],
      "text/plain": [
       "          Id  Nro Victimas       Fecha   Año  Mes  Dia      Hora  \\\n",
       "0  2016-0001             1  2016-01-01  2016    1    1  04:00:00   \n",
       "1  2016-0002             1  2016-01-02  2016    1    2  01:15:00   \n",
       "2  2016-0003             1  2016-01-03  2016    1    3  07:00:00   \n",
       "3  2016-0004             1  2016-01-10  2016    1   10  00:00:00   \n",
       "4  2016-0005             1  2016-01-21  2016    1   21  05:20:00   \n",
       "\n",
       "   Franja Horaria                                      Lugar Tipo Calle  ...  \\\n",
       "0               4  AV PIEDRA BUENA Y AV FERNANDEZ DE LA CRUZ    AVENIDA  ...   \n",
       "1               1          AV GRAL PAZ  Y AV DE LOS CORRALES  AUTOPISTA  ...   \n",
       "2               7                         AV ENTRE RIOS 2034    AVENIDA  ...   \n",
       "3               0      AV LARRAZABAL Y GRAL VILLEGAS CONRADO    AVENIDA  ...   \n",
       "4               5  AV SAN JUAN Y PRESIDENTE LUIS SAENZ PEÑA     AVENIDA  ...   \n",
       "\n",
       "    Longitud    Latitud   Participantes  Victima    Acusado  DiaSemana  \\\n",
       "0 -58.475340 -34.687570       MOTO-AUTO     MOTO       AUTO    Viernes   \n",
       "1 -58.508775 -34.669777  AUTO-PASAJEROS     AUTO  PASAJEROS     Sábado   \n",
       "2 -58.390403 -34.631894       MOTO-AUTO     MOTO       AUTO    Domingo   \n",
       "3 -58.465039 -34.680930         MOTO-SD     MOTO         SD    Domingo   \n",
       "4 -58.387183 -34.622466  MOTO-PASAJEROS     MOTO  PASAJEROS     Jueves   \n",
       "\n",
       "  MomentoDia        Rol       Sexo  Edad  \n",
       "0  Madrugada  CONDUCTOR  MASCULINO  19.0  \n",
       "1  Madrugada  CONDUCTOR  MASCULINO  70.0  \n",
       "2     Mañana  CONDUCTOR  MASCULINO  30.0  \n",
       "3  Madrugada  CONDUCTOR  MASCULINO  18.0  \n",
       "4  Madrugada  CONDUCTOR  MASCULINO  29.0  \n",
       "\n",
       "[5 rows x 24 columns]"
      ]
     },
     "execution_count": 82,
     "metadata": {},
     "output_type": "execute_result"
    }
   ],
   "source": [
    "df_siniestros.head()"
   ]
  },
  {
   "cell_type": "code",
   "execution_count": 83,
   "metadata": {},
   "outputs": [
    {
     "data": {
      "text/plain": [
       "(707, 24)"
      ]
     },
     "execution_count": 83,
     "metadata": {},
     "output_type": "execute_result"
    }
   ],
   "source": [
    "df_siniestros.shape"
   ]
  },
  {
   "cell_type": "code",
   "execution_count": 84,
   "metadata": {},
   "outputs": [
    {
     "data": {
      "text/plain": [
       "Index(['Id', 'Nro Victimas', 'Fecha', 'Año', 'Mes', 'Dia', 'Hora',\n",
       "       'Franja Horaria', 'Lugar', 'Tipo Calle', 'Calle', 'Cruce',\n",
       "       'Dirección Normalizada', 'Comuna', 'Longitud', 'Latitud',\n",
       "       'Participantes', 'Victima', 'Acusado', 'DiaSemana', 'MomentoDia', 'Rol',\n",
       "       'Sexo', 'Edad'],\n",
       "      dtype='object')"
      ]
     },
     "execution_count": 84,
     "metadata": {},
     "output_type": "execute_result"
    }
   ],
   "source": [
    "df_siniestros.columns"
   ]
  },
  {
   "cell_type": "markdown",
   "metadata": {},
   "source": [
    "### 2B. Verificar los tipos de datos de las variables"
   ]
  },
  {
   "cell_type": "code",
   "execution_count": 85,
   "metadata": {},
   "outputs": [
    {
     "data": {
      "text/plain": [
       "Id                        object\n",
       "Nro Victimas               int64\n",
       "Fecha                     object\n",
       "Año                        int64\n",
       "Mes                        int64\n",
       "Dia                        int64\n",
       "Hora                      object\n",
       "Franja Horaria             int64\n",
       "Lugar                     object\n",
       "Tipo Calle                object\n",
       "Calle                     object\n",
       "Cruce                     object\n",
       "Dirección Normalizada     object\n",
       "Comuna                     int64\n",
       "Longitud                 float64\n",
       "Latitud                  float64\n",
       "Participantes             object\n",
       "Victima                   object\n",
       "Acusado                   object\n",
       "DiaSemana                 object\n",
       "MomentoDia                object\n",
       "Rol                       object\n",
       "Sexo                      object\n",
       "Edad                     float64\n",
       "dtype: object"
      ]
     },
     "execution_count": 85,
     "metadata": {},
     "output_type": "execute_result"
    }
   ],
   "source": [
    "df_siniestros.dtypes"
   ]
  },
  {
   "cell_type": "markdown",
   "metadata": {},
   "source": [
    "## 3. Identificamos valores nulos y faltantes"
   ]
  },
  {
   "cell_type": "code",
   "execution_count": 86,
   "metadata": {},
   "outputs": [
    {
     "name": "stdout",
     "output_type": "stream",
     "text": [
      "Columna 'Id': 0 veces que aparece 'SD'\n",
      "Columna 'Nro Victimas': 0 veces que aparece 'SD'\n",
      "Columna 'Fecha': 0 veces que aparece 'SD'\n",
      "Columna 'Año': 0 veces que aparece 'SD'\n",
      "Columna 'Mes': 0 veces que aparece 'SD'\n",
      "Columna 'Dia': 0 veces que aparece 'SD'\n",
      "Columna 'Hora': 0 veces que aparece 'SD'\n",
      "Columna 'Franja Horaria': 0 veces que aparece 'SD'\n",
      "Columna 'Lugar': 0 veces que aparece 'SD'\n",
      "Columna 'Tipo Calle': 0 veces que aparece 'SD'\n",
      "Columna 'Calle': 0 veces que aparece 'SD'\n",
      "Columna 'Cruce': 0 veces que aparece 'SD'\n",
      "Columna 'Dirección Normalizada': 0 veces que aparece 'SD'\n",
      "Columna 'Comuna': 0 veces que aparece 'SD'\n",
      "Columna 'Longitud': 0 veces que aparece 'SD'\n",
      "Columna 'Latitud': 0 veces que aparece 'SD'\n",
      "Columna 'Participantes': 0 veces que aparece 'SD'\n",
      "Columna 'Victima': 8 veces que aparece 'SD'\n",
      "Columna 'Acusado': 20 veces que aparece 'SD'\n",
      "Columna 'DiaSemana': 0 veces que aparece 'SD'\n",
      "Columna 'MomentoDia': 0 veces que aparece 'SD'\n",
      "Columna 'Rol': 0 veces que aparece 'SD'\n",
      "Columna 'Sexo': 2 veces que aparece 'SD'\n",
      "Columna 'Edad': 0 veces que aparece 'SD'\n"
     ]
    }
   ],
   "source": [
    "columnas_sd_dicc = {}  \n",
    "\n",
    "for columna in df_siniestros.columns:\n",
    "    cantidad = (df_siniestros[columna] == 'SD').sum()\n",
    "    columnas_sd_dicc[columna] = cantidad\n",
    "\n",
    "for columna, conteo in columnas_sd_dicc.items():\n",
    "    print(f\"Columna '{columna}': {conteo} veces que aparece 'SD'\")"
   ]
  },
  {
   "cell_type": "code",
   "execution_count": 87,
   "metadata": {},
   "outputs": [
    {
     "data": {
      "text/plain": [
       "Id                       0\n",
       "Nro Victimas             0\n",
       "Fecha                    0\n",
       "Año                      0\n",
       "Mes                      0\n",
       "Dia                      0\n",
       "Hora                     0\n",
       "Franja Horaria           0\n",
       "Lugar                    0\n",
       "Tipo Calle               0\n",
       "Calle                    0\n",
       "Cruce                    0\n",
       "Dirección Normalizada    0\n",
       "Comuna                   0\n",
       "Longitud                 0\n",
       "Latitud                  0\n",
       "Participantes            0\n",
       "Victima                  0\n",
       "Acusado                  0\n",
       "DiaSemana                0\n",
       "MomentoDia               0\n",
       "Rol                      0\n",
       "Sexo                     0\n",
       "Edad                     2\n",
       "dtype: int64"
      ]
     },
     "execution_count": 87,
     "metadata": {},
     "output_type": "execute_result"
    }
   ],
   "source": [
    "df_siniestros.isnull().sum()"
   ]
  },
  {
   "cell_type": "markdown",
   "metadata": {},
   "source": [
    "## 5. Estadisticas descriptivas basicas"
   ]
  },
  {
   "cell_type": "markdown",
   "metadata": {},
   "source": [
    "### Variables cuantitativas"
   ]
  },
  {
   "cell_type": "code",
   "execution_count": 88,
   "metadata": {},
   "outputs": [
    {
     "data": {
      "text/html": [
       "<div>\n",
       "<style scoped>\n",
       "    .dataframe tbody tr th:only-of-type {\n",
       "        vertical-align: middle;\n",
       "    }\n",
       "\n",
       "    .dataframe tbody tr th {\n",
       "        vertical-align: top;\n",
       "    }\n",
       "\n",
       "    .dataframe thead th {\n",
       "        text-align: right;\n",
       "    }\n",
       "</style>\n",
       "<table border=\"1\" class=\"dataframe\">\n",
       "  <thead>\n",
       "    <tr style=\"text-align: right;\">\n",
       "      <th></th>\n",
       "      <th>Nro Victimas</th>\n",
       "      <th>Año</th>\n",
       "      <th>Mes</th>\n",
       "      <th>Dia</th>\n",
       "      <th>Franja Horaria</th>\n",
       "      <th>Comuna</th>\n",
       "      <th>Longitud</th>\n",
       "      <th>Latitud</th>\n",
       "      <th>Edad</th>\n",
       "    </tr>\n",
       "  </thead>\n",
       "  <tbody>\n",
       "    <tr>\n",
       "      <th>count</th>\n",
       "      <td>707.000000</td>\n",
       "      <td>707.00000</td>\n",
       "      <td>707.000000</td>\n",
       "      <td>707.000000</td>\n",
       "      <td>707.000000</td>\n",
       "      <td>707.000000</td>\n",
       "      <td>707.000000</td>\n",
       "      <td>707.000000</td>\n",
       "      <td>705.000000</td>\n",
       "    </tr>\n",
       "    <tr>\n",
       "      <th>mean</th>\n",
       "      <td>1.059406</td>\n",
       "      <td>2018.18529</td>\n",
       "      <td>6.695898</td>\n",
       "      <td>15.916549</td>\n",
       "      <td>11.567185</td>\n",
       "      <td>7.431400</td>\n",
       "      <td>-58.441645</td>\n",
       "      <td>-34.619662</td>\n",
       "      <td>42.068085</td>\n",
       "    </tr>\n",
       "    <tr>\n",
       "      <th>std</th>\n",
       "      <td>0.253879</td>\n",
       "      <td>1.66990</td>\n",
       "      <td>3.579454</td>\n",
       "      <td>8.655516</td>\n",
       "      <td>6.678319</td>\n",
       "      <td>4.374699</td>\n",
       "      <td>0.046398</td>\n",
       "      <td>0.035352</td>\n",
       "      <td>19.269350</td>\n",
       "    </tr>\n",
       "    <tr>\n",
       "      <th>min</th>\n",
       "      <td>1.000000</td>\n",
       "      <td>2016.00000</td>\n",
       "      <td>1.000000</td>\n",
       "      <td>1.000000</td>\n",
       "      <td>0.000000</td>\n",
       "      <td>1.000000</td>\n",
       "      <td>-58.529942</td>\n",
       "      <td>-34.705250</td>\n",
       "      <td>1.000000</td>\n",
       "    </tr>\n",
       "    <tr>\n",
       "      <th>25%</th>\n",
       "      <td>1.000000</td>\n",
       "      <td>2017.00000</td>\n",
       "      <td>4.000000</td>\n",
       "      <td>9.000000</td>\n",
       "      <td>6.000000</td>\n",
       "      <td>4.000000</td>\n",
       "      <td>-58.476776</td>\n",
       "      <td>-34.643980</td>\n",
       "      <td>28.000000</td>\n",
       "    </tr>\n",
       "    <tr>\n",
       "      <th>50%</th>\n",
       "      <td>1.000000</td>\n",
       "      <td>2018.00000</td>\n",
       "      <td>7.000000</td>\n",
       "      <td>16.000000</td>\n",
       "      <td>11.000000</td>\n",
       "      <td>8.000000</td>\n",
       "      <td>-58.444513</td>\n",
       "      <td>-34.622882</td>\n",
       "      <td>36.000000</td>\n",
       "    </tr>\n",
       "    <tr>\n",
       "      <th>75%</th>\n",
       "      <td>1.000000</td>\n",
       "      <td>2019.00000</td>\n",
       "      <td>10.000000</td>\n",
       "      <td>23.000000</td>\n",
       "      <td>17.000000</td>\n",
       "      <td>11.000000</td>\n",
       "      <td>-58.401841</td>\n",
       "      <td>-34.596991</td>\n",
       "      <td>55.000000</td>\n",
       "    </tr>\n",
       "    <tr>\n",
       "      <th>max</th>\n",
       "      <td>3.000000</td>\n",
       "      <td>2021.00000</td>\n",
       "      <td>12.000000</td>\n",
       "      <td>31.000000</td>\n",
       "      <td>23.000000</td>\n",
       "      <td>15.000000</td>\n",
       "      <td>-58.356082</td>\n",
       "      <td>-34.534654</td>\n",
       "      <td>95.000000</td>\n",
       "    </tr>\n",
       "  </tbody>\n",
       "</table>\n",
       "</div>"
      ],
      "text/plain": [
       "       Nro Victimas         Año         Mes         Dia  Franja Horaria  \\\n",
       "count    707.000000   707.00000  707.000000  707.000000      707.000000   \n",
       "mean       1.059406  2018.18529    6.695898   15.916549       11.567185   \n",
       "std        0.253879     1.66990    3.579454    8.655516        6.678319   \n",
       "min        1.000000  2016.00000    1.000000    1.000000        0.000000   \n",
       "25%        1.000000  2017.00000    4.000000    9.000000        6.000000   \n",
       "50%        1.000000  2018.00000    7.000000   16.000000       11.000000   \n",
       "75%        1.000000  2019.00000   10.000000   23.000000       17.000000   \n",
       "max        3.000000  2021.00000   12.000000   31.000000       23.000000   \n",
       "\n",
       "           Comuna    Longitud     Latitud        Edad  \n",
       "count  707.000000  707.000000  707.000000  705.000000  \n",
       "mean     7.431400  -58.441645  -34.619662   42.068085  \n",
       "std      4.374699    0.046398    0.035352   19.269350  \n",
       "min      1.000000  -58.529942  -34.705250    1.000000  \n",
       "25%      4.000000  -58.476776  -34.643980   28.000000  \n",
       "50%      8.000000  -58.444513  -34.622882   36.000000  \n",
       "75%     11.000000  -58.401841  -34.596991   55.000000  \n",
       "max     15.000000  -58.356082  -34.534654   95.000000  "
      ]
     },
     "execution_count": 88,
     "metadata": {},
     "output_type": "execute_result"
    }
   ],
   "source": [
    "df_siniestros.describe()"
   ]
  },
  {
   "cell_type": "markdown",
   "metadata": {},
   "source": [
    "## Conclusiones Preliminares:\n",
    "* Datos Generales:<br>\n",
    "El conjunto de datos cuenta con 707 registros y 25 columnas.<br>\n",
    "Las columnas relevantes incluyen información sobre el accidente, las víctimas, la ubicación, y detalles temporales como la fecha y hora.<br>\n",
    "* Nulos y Valores Específicos:<br>\n",
    "Se observa que hay celdas con el valor 'SD' en las columnas 'Id', 'Victima', 'Acusado', 'Sexo' y 'Fecha_fallecimiento'.<br>\n",
    "Algunas columnas, como 'Edad' y 'Fecha_fallecimiento', contienen valores nulos que pueden necesitar tratamiento.<br>\n",
    "* Características Temporales:<br>\n",
    "Los accidentes parecen estar distribuidos de manera uniforme a lo largo de los años, meses y días, con un promedio de 1.06 víctimas por accidente.<br>\n",
    "* Ubicación y Franja Horaria:<br>\n",
    "La mayoría de los accidentes ocurren en la franja horaria entre las 6:00 y las 23:00 horas. <br>\n",
    "La comuna más afectada es la número 7.<br>\n",
    "* Edad:<br>\n",
    "La edad promedio de las víctimas es de aproximadamente 42 años."
   ]
  },
  {
   "cell_type": "markdown",
   "metadata": {},
   "source": [
    "## Visualizacion de datos"
   ]
  },
  {
   "cell_type": "markdown",
   "metadata": {},
   "source": [
    "Observaremos la distribucion de los datos a partir de distintos graficos"
   ]
  },
  {
   "cell_type": "markdown",
   "metadata": {},
   "source": [
    "### Edad"
   ]
  },
  {
   "cell_type": "code",
   "execution_count": 89,
   "metadata": {},
   "outputs": [
    {
     "data": {
      "image/png": "[encoded data removed]",
      "text/plain": [
       "<Figure size 640x480 with 1 Axes>"
      ]
     },
     "metadata": {},
     "output_type": "display_data"
    }
   ],
   "source": [
    "plt.hist(df_siniestros[\"Edad\"].dropna(), bins=30, edgecolor='black', color=\"purple\")\n",
    "plt.title(\"Distribución de Edades\")\n",
    "plt.xlabel(\"Edad\")\n",
    "plt.ylabel(\"Frecuencia\")\n",
    "plt.show()"
   ]
  },
  {
   "cell_type": "markdown",
   "metadata": {},
   "source": [
    "El histograma muestra que la mayoría de las victimas tiene entre 20 y 40 años de edad. La frecuencia disminuye a medida que la edad aumenta, lo que indica que hay menos personas mayores de 40 años."
   ]
  },
  {
   "cell_type": "markdown",
   "metadata": {},
   "source": [
    "### Numero de victimas"
   ]
  },
  {
   "cell_type": "code",
   "execution_count": 90,
   "metadata": {},
   "outputs": [
    {
     "data": {
      "image/png": "[encoded data removed]",
      "text/plain": [
       "<Figure size 640x480 with 1 Axes>"
      ]
     },
     "metadata": {},
     "output_type": "display_data"
    }
   ],
   "source": [
    "victimas_counts = df_siniestros[\"Nro Victimas\"].value_counts().sort_index()\n",
    "\n",
    "plt.bar(victimas_counts.index, victimas_counts.values, color=\"purple\", edgecolor= \"black\")\n",
    "plt.title(\"Distribución del Numero de Víctimas\")\n",
    "plt.xlabel(\"Numero de Víctimas\")\n",
    "plt.ylabel(\"Frecuencia\")\n",
    "plt.grid(axis=\"y\", linestyle=\"--\", alpha=0.7)\n",
    "plt.xticks(range(int(df_siniestros[\"Nro Victimas\"].min()), int(df_siniestros[\"Nro Victimas\"].max()) + 1))\n",
    "plt.show()"
   ]
  },
  {
   "cell_type": "markdown",
   "metadata": {},
   "source": [
    "El grafico sugiere que los siniestros viales con un número pequeño de víctimas son mucho más comunes que los siniestros viales con un número grande de víctimas."
   ]
  },
  {
   "cell_type": "markdown",
   "metadata": {},
   "source": [
    "### Mes\n"
   ]
  },
  {
   "cell_type": "code",
   "execution_count": 91,
   "metadata": {},
   "outputs": [
    {
     "data": {
      "image/png": "[encoded data removed]",
      "text/plain": [
       "<Figure size 800x600 with 1 Axes>"
      ]
     },
     "metadata": {},
     "output_type": "display_data"
    }
   ],
   "source": [
    "plt.figure(figsize=(8, 6))\n",
    "sns.countplot(x=\"Mes\", data=df_siniestros, palette=\"viridis\")\n",
    "plt.title(\"Distribución de incidentes por Mes\")\n",
    "plt.xlabel(\"Mes\")\n",
    "plt.ylabel(\"Frecuencia\")\n",
    "plt.show()"
   ]
  },
  {
   "cell_type": "markdown",
   "metadata": {},
   "source": [
    "El mes con más incidentes fue diciembre.\n",
    "El mes con menos incidentes fue abril.\n",
    "El número de incidentes disminuyo gradualmente desde enero hasta abril.\n",
    "El número de incidentes aumento gradualmente en los meses de mayo, junio, agosto y noviembre."
   ]
  },
  {
   "cell_type": "markdown",
   "metadata": {},
   "source": [
    "### Tipo de calle"
   ]
  },
  {
   "cell_type": "code",
   "execution_count": 92,
   "metadata": {},
   "outputs": [
    {
     "data": {
      "image/png": "[encoded data removed]",
      "text/plain": [
       "<Figure size 600x600 with 1 Axes>"
      ]
     },
     "metadata": {},
     "output_type": "display_data"
    }
   ],
   "source": [
    "plt.figure(figsize=(6, 6))\n",
    "sns.countplot(x=\"Tipo Calle\", data=df_siniestros, palette=\"viridis\")\n",
    "plt.title(\"Distribución de incidentes por Tipo de Calle\")\n",
    "plt.xlabel(\"Tipo de Calle\")\n",
    "plt.ylabel(\"Frecuencia\")\n",
    "plt.show()"
   ]
  },
  {
   "cell_type": "markdown",
   "metadata": {},
   "source": [
    "El gráfico muestra que la frecuencia de incidentes viales es mayor en las avenidas que en las calles y autopistas. Esto puede deberse a varios factores, como el mayor tráfico en las avenidas, la mayor velocidad de los vehículos en las avenidas, y la mayor presencia de peatones y ciclistas en ellas."
   ]
  },
  {
   "cell_type": "markdown",
   "metadata": {},
   "source": [
    "### Comuna"
   ]
  },
  {
   "cell_type": "code",
   "execution_count": 93,
   "metadata": {},
   "outputs": [
    {
     "data": {
      "image/png": "[encoded data removed]",
      "text/plain": [
       "<Figure size 600x600 with 1 Axes>"
      ]
     },
     "metadata": {},
     "output_type": "display_data"
    }
   ],
   "source": [
    "plt.figure(figsize=(6, 6))\n",
    "sns.countplot(x=\"Comuna\", data=df_siniestros, palette=\"viridis\")\n",
    "plt.title(\"Distribución de incidentes por Comuna\")\n",
    "plt.xlabel(\"Comuna\")\n",
    "plt.ylabel(\"Frecuencia\")\n",
    "plt.show()"
   ]
  },
  {
   "cell_type": "markdown",
   "metadata": {},
   "source": [
    "En el grafico podemos observar que la comuna que tiene la mayor cantidad de incidentes viales es la comuna 1 que representa los barrios de:Retiro, San Nicolás, Puerto Madero, San Telmo, Montserrat y Constitución. <br>\n",
    "La segunda comuna con mas incidentes viales es la comuna 4 que representa los barrios de: La Boca, Barracas, Parque Patricios y Nueva Pompeya. <br>\n",
    "Mientras que las dos comunas que representan el numero mas bajo de incidentes son comuna 5 que representa los barrios de Almagro y Boedo, y la comuna 6 que representa el barrio de Caballito. <br>\n",
    "Esto puede deberse a varios factores, como la mayor cantidad de vehículos que circulan en estas comunas, la mayor densidad de población, y la mayor presencia de peatones y ciclistas."
   ]
  },
  {
   "cell_type": "markdown",
   "metadata": {},
   "source": [
    "### Dia de la semana"
   ]
  },
  {
   "cell_type": "code",
   "execution_count": 94,
   "metadata": {},
   "outputs": [
    {
     "data": {
      "image/png": "[encoded data removed]",
      "text/plain": [
       "<Figure size 800x400 with 1 Axes>"
      ]
     },
     "metadata": {},
     "output_type": "display_data"
    }
   ],
   "source": [
    "plt.figure(figsize=(8, 4))\n",
    "sns.countplot(x=\"DiaSemana\", data=df_siniestros, palette=\"viridis\")\n",
    "plt.title(\"Distribución de incidentes por Día de la Semana\")\n",
    "plt.xlabel(\"Día de la Semana\")\n",
    "plt.ylabel(\"Frecuencia\")\n",
    "plt.show()"
   ]
  },
  {
   "cell_type": "markdown",
   "metadata": {},
   "source": [
    "El gráfico muestra que el número de víctimas de incidentes viales es mayor los fines de semana que los días laborables. Esto puede deberse a varios factores, como el mayor consumo de alcohol y drogas, la mayor presencia de peatones y ciclistas, y la mayor cantidad de vehículos en las calles."
   ]
  },
  {
   "cell_type": "markdown",
   "metadata": {},
   "source": [
    "### Momento del dia "
   ]
  },
  {
   "cell_type": "code",
   "execution_count": null,
   "metadata": {},
   "outputs": [],
   "source": []
  }
 ],
 "metadata": {
  "kernelspec": {
   "display_name": "venv",
   "language": "python",
   "name": "python3"
  },
  "language_info": {
   "codemirror_mode": {
    "name": "ipython",
    "version": 3
   },
   "file_extension": ".py",
   "mimetype": "text/x-python",
   "name": "python",
   "nbconvert_exporter": "python",
   "pygments_lexer": "ipython3",
   "version": "3.11.6"
  }
 },
 "nbformat": 4,
 "nbformat_minor": 2
}

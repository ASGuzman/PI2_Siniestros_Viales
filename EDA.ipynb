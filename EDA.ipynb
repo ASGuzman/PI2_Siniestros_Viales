{
 "cells": [
  {
   "cell_type": "markdown",
   "metadata": {},
   "source": [
    "# Analisis Exploratorio de Datos"
   ]
  },
  {
   "cell_type": "markdown",
   "metadata": {},
   "source": [
    "Mediante la exploración detallada de un extenso conjunto de datos proporcionado por el Observatorio de Movilidad y Seguridad Vial (OMSV), se busca identificar patrones, tendencias y factores clave que contribuyen a la ocurrencia de siniestros y a la gravedad de sus consecuencias. Este análisis preliminar no solo sienta las bases para el diseño del dashboard y la definición de KPIs, sino que también ofrece perspectivas críticas que respaldarán la formulación de políticas efectivas y medidas preventivas para reducir el número de víctimas fatales en siniestros viales en la ciudad."
   ]
  },
  {
   "cell_type": "markdown",
   "metadata": {},
   "source": [
    "## 0. Importamos librerias"
   ]
  },
  {
   "cell_type": "code",
   "execution_count": 11,
   "metadata": {},
   "outputs": [],
   "source": [
    "import pandas as pd\n",
    "import calendar\n",
    "import seaborn as sns\n",
    "import matplotlib.pyplot as plt\n",
    "from datetime import datetime\n",
    "import warnings\n",
    "warnings.filterwarnings(\"ignore\")"
   ]
  },
  {
   "cell_type": "markdown",
   "metadata": {},
   "source": [
    "## 1. Obtencion de datos"
   ]
  },
  {
   "cell_type": "code",
   "execution_count": 12,
   "metadata": {},
   "outputs": [],
   "source": [
    "df_siniestros = pd.read_csv(\"Datasets/df_siniestros.csv\")"
   ]
  },
  {
   "cell_type": "markdown",
   "metadata": {},
   "source": [
    "## 2. Exploracion Inicial"
   ]
  },
  {
   "cell_type": "markdown",
   "metadata": {},
   "source": [
    "### 2A. Examinamos las primeras filas del dataframe para entender la estructura"
   ]
  },
  {
   "cell_type": "code",
   "execution_count": 13,
   "metadata": {},
   "outputs": [
    {
     "data": {
      "text/html": [
       "<div>\n",
       "<style scoped>\n",
       "    .dataframe tbody tr th:only-of-type {\n",
       "        vertical-align: middle;\n",
       "    }\n",
       "\n",
       "    .dataframe tbody tr th {\n",
       "        vertical-align: top;\n",
       "    }\n",
       "\n",
       "    .dataframe thead th {\n",
       "        text-align: right;\n",
       "    }\n",
       "</style>\n",
       "<table border=\"1\" class=\"dataframe\">\n",
       "  <thead>\n",
       "    <tr style=\"text-align: right;\">\n",
       "      <th></th>\n",
       "      <th>Id</th>\n",
       "      <th>Nro Victimas</th>\n",
       "      <th>Fecha</th>\n",
       "      <th>Año</th>\n",
       "      <th>Mes</th>\n",
       "      <th>Dia</th>\n",
       "      <th>Hora</th>\n",
       "      <th>Franja Horaria</th>\n",
       "      <th>Lugar</th>\n",
       "      <th>Tipo Calle</th>\n",
       "      <th>...</th>\n",
       "      <th>Latitud</th>\n",
       "      <th>Participantes</th>\n",
       "      <th>Victima</th>\n",
       "      <th>Acusado</th>\n",
       "      <th>DiaSemana</th>\n",
       "      <th>MomentoDia</th>\n",
       "      <th>Rol</th>\n",
       "      <th>Sexo</th>\n",
       "      <th>Edad</th>\n",
       "      <th>Fecha_fallecimiento</th>\n",
       "    </tr>\n",
       "  </thead>\n",
       "  <tbody>\n",
       "    <tr>\n",
       "      <th>0</th>\n",
       "      <td>2016-0001</td>\n",
       "      <td>1</td>\n",
       "      <td>2016-01-01</td>\n",
       "      <td>2016</td>\n",
       "      <td>1</td>\n",
       "      <td>1</td>\n",
       "      <td>04:00:00</td>\n",
       "      <td>4</td>\n",
       "      <td>AV PIEDRA BUENA Y AV FERNANDEZ DE LA CRUZ</td>\n",
       "      <td>AVENIDA</td>\n",
       "      <td>...</td>\n",
       "      <td>-34.687570</td>\n",
       "      <td>MOTO-AUTO</td>\n",
       "      <td>MOTO</td>\n",
       "      <td>AUTO</td>\n",
       "      <td>Viernes</td>\n",
       "      <td>Noche</td>\n",
       "      <td>CONDUCTOR</td>\n",
       "      <td>MASCULINO</td>\n",
       "      <td>19.0</td>\n",
       "      <td>2016-01-01</td>\n",
       "    </tr>\n",
       "    <tr>\n",
       "      <th>1</th>\n",
       "      <td>2016-0002</td>\n",
       "      <td>1</td>\n",
       "      <td>2016-01-02</td>\n",
       "      <td>2016</td>\n",
       "      <td>1</td>\n",
       "      <td>2</td>\n",
       "      <td>01:15:00</td>\n",
       "      <td>1</td>\n",
       "      <td>AV GRAL PAZ  Y AV DE LOS CORRALES</td>\n",
       "      <td>AUTOPISTA</td>\n",
       "      <td>...</td>\n",
       "      <td>-34.669777</td>\n",
       "      <td>AUTO-PASAJEROS</td>\n",
       "      <td>AUTO</td>\n",
       "      <td>PASAJEROS</td>\n",
       "      <td>Sábado</td>\n",
       "      <td>Noche</td>\n",
       "      <td>CONDUCTOR</td>\n",
       "      <td>MASCULINO</td>\n",
       "      <td>70.0</td>\n",
       "      <td>2016-01-02</td>\n",
       "    </tr>\n",
       "    <tr>\n",
       "      <th>2</th>\n",
       "      <td>2016-0003</td>\n",
       "      <td>1</td>\n",
       "      <td>2016-01-03</td>\n",
       "      <td>2016</td>\n",
       "      <td>1</td>\n",
       "      <td>3</td>\n",
       "      <td>07:00:00</td>\n",
       "      <td>7</td>\n",
       "      <td>AV ENTRE RIOS 2034</td>\n",
       "      <td>AVENIDA</td>\n",
       "      <td>...</td>\n",
       "      <td>-34.631894</td>\n",
       "      <td>MOTO-AUTO</td>\n",
       "      <td>MOTO</td>\n",
       "      <td>AUTO</td>\n",
       "      <td>Domingo</td>\n",
       "      <td>Mañana</td>\n",
       "      <td>CONDUCTOR</td>\n",
       "      <td>MASCULINO</td>\n",
       "      <td>30.0</td>\n",
       "      <td>2016-01-03</td>\n",
       "    </tr>\n",
       "    <tr>\n",
       "      <th>3</th>\n",
       "      <td>2016-0004</td>\n",
       "      <td>1</td>\n",
       "      <td>2016-01-10</td>\n",
       "      <td>2016</td>\n",
       "      <td>1</td>\n",
       "      <td>10</td>\n",
       "      <td>00:00:00</td>\n",
       "      <td>0</td>\n",
       "      <td>AV LARRAZABAL Y GRAL VILLEGAS CONRADO</td>\n",
       "      <td>AVENIDA</td>\n",
       "      <td>...</td>\n",
       "      <td>-34.680930</td>\n",
       "      <td>MOTO-SD</td>\n",
       "      <td>MOTO</td>\n",
       "      <td>SD</td>\n",
       "      <td>Domingo</td>\n",
       "      <td>Noche</td>\n",
       "      <td>CONDUCTOR</td>\n",
       "      <td>MASCULINO</td>\n",
       "      <td>18.0</td>\n",
       "      <td>NaN</td>\n",
       "    </tr>\n",
       "    <tr>\n",
       "      <th>4</th>\n",
       "      <td>2016-0005</td>\n",
       "      <td>1</td>\n",
       "      <td>2016-01-21</td>\n",
       "      <td>2016</td>\n",
       "      <td>1</td>\n",
       "      <td>21</td>\n",
       "      <td>05:20:00</td>\n",
       "      <td>5</td>\n",
       "      <td>AV SAN JUAN Y PRESIDENTE LUIS SAENZ PEÑA</td>\n",
       "      <td>AVENIDA</td>\n",
       "      <td>...</td>\n",
       "      <td>-34.622466</td>\n",
       "      <td>MOTO-PASAJEROS</td>\n",
       "      <td>MOTO</td>\n",
       "      <td>PASAJEROS</td>\n",
       "      <td>Jueves</td>\n",
       "      <td>Noche</td>\n",
       "      <td>CONDUCTOR</td>\n",
       "      <td>MASCULINO</td>\n",
       "      <td>29.0</td>\n",
       "      <td>2016-02-01</td>\n",
       "    </tr>\n",
       "  </tbody>\n",
       "</table>\n",
       "<p>5 rows × 26 columns</p>\n",
       "</div>"
      ],
      "text/plain": [
       "          Id  Nro Victimas       Fecha   Año  Mes  Dia      Hora  \\\n",
       "0  2016-0001             1  2016-01-01  2016    1    1  04:00:00   \n",
       "1  2016-0002             1  2016-01-02  2016    1    2  01:15:00   \n",
       "2  2016-0003             1  2016-01-03  2016    1    3  07:00:00   \n",
       "3  2016-0004             1  2016-01-10  2016    1   10  00:00:00   \n",
       "4  2016-0005             1  2016-01-21  2016    1   21  05:20:00   \n",
       "\n",
       "   Franja Horaria                                      Lugar Tipo Calle  ...  \\\n",
       "0               4  AV PIEDRA BUENA Y AV FERNANDEZ DE LA CRUZ    AVENIDA  ...   \n",
       "1               1          AV GRAL PAZ  Y AV DE LOS CORRALES  AUTOPISTA  ...   \n",
       "2               7                         AV ENTRE RIOS 2034    AVENIDA  ...   \n",
       "3               0      AV LARRAZABAL Y GRAL VILLEGAS CONRADO    AVENIDA  ...   \n",
       "4               5  AV SAN JUAN Y PRESIDENTE LUIS SAENZ PEÑA     AVENIDA  ...   \n",
       "\n",
       "     Latitud   Participantes Victima    Acusado DiaSemana  MomentoDia  \\\n",
       "0 -34.687570       MOTO-AUTO    MOTO       AUTO   Viernes       Noche   \n",
       "1 -34.669777  AUTO-PASAJEROS    AUTO  PASAJEROS    Sábado       Noche   \n",
       "2 -34.631894       MOTO-AUTO    MOTO       AUTO   Domingo      Mañana   \n",
       "3 -34.680930         MOTO-SD    MOTO         SD   Domingo       Noche   \n",
       "4 -34.622466  MOTO-PASAJEROS    MOTO  PASAJEROS    Jueves       Noche   \n",
       "\n",
       "         Rol       Sexo  Edad Fecha_fallecimiento  \n",
       "0  CONDUCTOR  MASCULINO  19.0          2016-01-01  \n",
       "1  CONDUCTOR  MASCULINO  70.0          2016-01-02  \n",
       "2  CONDUCTOR  MASCULINO  30.0          2016-01-03  \n",
       "3  CONDUCTOR  MASCULINO  18.0                 NaN  \n",
       "4  CONDUCTOR  MASCULINO  29.0          2016-02-01  \n",
       "\n",
       "[5 rows x 26 columns]"
      ]
     },
     "execution_count": 13,
     "metadata": {},
     "output_type": "execute_result"
    }
   ],
   "source": [
    "df_siniestros.head()"
   ]
  },
  {
   "cell_type": "code",
   "execution_count": 14,
   "metadata": {},
   "outputs": [
    {
     "data": {
      "text/plain": [
       "(708, 26)"
      ]
     },
     "execution_count": 14,
     "metadata": {},
     "output_type": "execute_result"
    }
   ],
   "source": [
    "df_siniestros.shape"
   ]
  },
  {
   "cell_type": "code",
   "execution_count": 15,
   "metadata": {},
   "outputs": [
    {
     "data": {
      "text/plain": [
       "Index(['Id', 'Nro Victimas', 'Fecha', 'Año', 'Mes', 'Dia', 'Hora',\n",
       "       'Franja Horaria', 'Lugar', 'Tipo Calle', 'Calle', 'Cruce',\n",
       "       'Dirección Normalizada', 'Comuna', 'Geocodificacion', 'Longitud',\n",
       "       'Latitud', 'Participantes', 'Victima', 'Acusado', 'DiaSemana',\n",
       "       'MomentoDia', 'Rol', 'Sexo', 'Edad', 'Fecha_fallecimiento'],\n",
       "      dtype='object')"
      ]
     },
     "execution_count": 15,
     "metadata": {},
     "output_type": "execute_result"
    }
   ],
   "source": [
    "df_siniestros.columns"
   ]
  },
  {
   "cell_type": "markdown",
   "metadata": {},
   "source": [
    "### 2B. Verificar los tipos de datos de las variables"
   ]
  },
  {
   "cell_type": "code",
   "execution_count": 16,
   "metadata": {},
   "outputs": [
    {
     "data": {
      "text/plain": [
       "Id                        object\n",
       "Nro Victimas               int64\n",
       "Fecha                     object\n",
       "Año                        int64\n",
       "Mes                        int64\n",
       "Dia                        int64\n",
       "Hora                      object\n",
       "Franja Horaria             int64\n",
       "Lugar                     object\n",
       "Tipo Calle                object\n",
       "Calle                     object\n",
       "Cruce                     object\n",
       "Dirección Normalizada     object\n",
       "Comuna                     int64\n",
       "Geocodificacion           object\n",
       "Longitud                 float64\n",
       "Latitud                  float64\n",
       "Participantes             object\n",
       "Victima                   object\n",
       "Acusado                   object\n",
       "DiaSemana                 object\n",
       "MomentoDia                object\n",
       "Rol                       object\n",
       "Sexo                      object\n",
       "Edad                     float64\n",
       "Fecha_fallecimiento       object\n",
       "dtype: object"
      ]
     },
     "execution_count": 16,
     "metadata": {},
     "output_type": "execute_result"
    }
   ],
   "source": [
    "df_siniestros.dtypes"
   ]
  },
  {
   "cell_type": "markdown",
   "metadata": {},
   "source": [
    "## 3. Identificamos valores nulos y faltantes"
   ]
  },
  {
   "cell_type": "code",
   "execution_count": 17,
   "metadata": {},
   "outputs": [
    {
     "name": "stdout",
     "output_type": "stream",
     "text": [
      "Columna 'Id': 0 veces que aparece 'SD'\n",
      "Columna 'Nro Victimas': 0 veces que aparece 'SD'\n",
      "Columna 'Fecha': 0 veces que aparece 'SD'\n",
      "Columna 'Año': 0 veces que aparece 'SD'\n",
      "Columna 'Mes': 0 veces que aparece 'SD'\n",
      "Columna 'Dia': 0 veces que aparece 'SD'\n",
      "Columna 'Hora': 0 veces que aparece 'SD'\n",
      "Columna 'Franja Horaria': 0 veces que aparece 'SD'\n",
      "Columna 'Lugar': 0 veces que aparece 'SD'\n",
      "Columna 'Tipo Calle': 0 veces que aparece 'SD'\n",
      "Columna 'Calle': 0 veces que aparece 'SD'\n",
      "Columna 'Cruce': 0 veces que aparece 'SD'\n",
      "Columna 'Dirección Normalizada': 0 veces que aparece 'SD'\n",
      "Columna 'Comuna': 0 veces que aparece 'SD'\n",
      "Columna 'Geocodificacion': 0 veces que aparece 'SD'\n",
      "Columna 'Longitud': 0 veces que aparece 'SD'\n",
      "Columna 'Latitud': 0 veces que aparece 'SD'\n",
      "Columna 'Participantes': 0 veces que aparece 'SD'\n",
      "Columna 'Victima': 9 veces que aparece 'SD'\n",
      "Columna 'Acusado': 21 veces que aparece 'SD'\n",
      "Columna 'DiaSemana': 0 veces que aparece 'SD'\n",
      "Columna 'MomentoDia': 0 veces que aparece 'SD'\n",
      "Columna 'Rol': 0 veces que aparece 'SD'\n",
      "Columna 'Sexo': 3 veces que aparece 'SD'\n",
      "Columna 'Edad': 0 veces que aparece 'SD'\n",
      "Columna 'Fecha_fallecimiento': 0 veces que aparece 'SD'\n"
     ]
    }
   ],
   "source": [
    "columnas_sd_dicc = {}  \n",
    "\n",
    "for columna in df_siniestros.columns:\n",
    "    cantidad = (df_siniestros[columna] == 'SD').sum()\n",
    "    columnas_sd_dicc[columna] = cantidad\n",
    "\n",
    "for columna, conteo in columnas_sd_dicc.items():\n",
    "    print(f\"Columna '{columna}': {conteo} veces que aparece 'SD'\")"
   ]
  },
  {
   "cell_type": "code",
   "execution_count": 18,
   "metadata": {},
   "outputs": [
    {
     "data": {
      "text/plain": [
       "Id                        0\n",
       "Nro Victimas              0\n",
       "Fecha                     0\n",
       "Año                       0\n",
       "Mes                       0\n",
       "Dia                       0\n",
       "Hora                      4\n",
       "Franja Horaria            0\n",
       "Lugar                     0\n",
       "Tipo Calle                0\n",
       "Calle                     0\n",
       "Cruce                     0\n",
       "Dirección Normalizada     0\n",
       "Comuna                    0\n",
       "Geocodificacion           0\n",
       "Longitud                  4\n",
       "Latitud                   4\n",
       "Participantes             0\n",
       "Victima                   0\n",
       "Acusado                   0\n",
       "DiaSemana                 0\n",
       "MomentoDia                0\n",
       "Rol                       0\n",
       "Sexo                      0\n",
       "Edad                      3\n",
       "Fecha_fallecimiento      65\n",
       "dtype: int64"
      ]
     },
     "execution_count": 18,
     "metadata": {},
     "output_type": "execute_result"
    }
   ],
   "source": [
    "df_siniestros.isnull().sum()"
   ]
  },
  {
   "cell_type": "markdown",
   "metadata": {},
   "source": [
    "## 5. Estadisticas descriptivas basicas"
   ]
  },
  {
   "cell_type": "code",
   "execution_count": 19,
   "metadata": {},
   "outputs": [
    {
     "data": {
      "text/html": [
       "<div>\n",
       "<style scoped>\n",
       "    .dataframe tbody tr th:only-of-type {\n",
       "        vertical-align: middle;\n",
       "    }\n",
       "\n",
       "    .dataframe tbody tr th {\n",
       "        vertical-align: top;\n",
       "    }\n",
       "\n",
       "    .dataframe thead th {\n",
       "        text-align: right;\n",
       "    }\n",
       "</style>\n",
       "<table border=\"1\" class=\"dataframe\">\n",
       "  <thead>\n",
       "    <tr style=\"text-align: right;\">\n",
       "      <th></th>\n",
       "      <th>Nro Victimas</th>\n",
       "      <th>Año</th>\n",
       "      <th>Mes</th>\n",
       "      <th>Dia</th>\n",
       "      <th>Franja Horaria</th>\n",
       "      <th>Comuna</th>\n",
       "      <th>Longitud</th>\n",
       "      <th>Latitud</th>\n",
       "      <th>Edad</th>\n",
       "    </tr>\n",
       "  </thead>\n",
       "  <tbody>\n",
       "    <tr>\n",
       "      <th>count</th>\n",
       "      <td>708.000000</td>\n",
       "      <td>708.000000</td>\n",
       "      <td>708.000000</td>\n",
       "      <td>708.000000</td>\n",
       "      <td>708.000000</td>\n",
       "      <td>708.000000</td>\n",
       "      <td>704.000000</td>\n",
       "      <td>704.000000</td>\n",
       "      <td>705.000000</td>\n",
       "    </tr>\n",
       "    <tr>\n",
       "      <th>mean</th>\n",
       "      <td>1.059322</td>\n",
       "      <td>2018.182203</td>\n",
       "      <td>6.703390</td>\n",
       "      <td>15.932203</td>\n",
       "      <td>11.550847</td>\n",
       "      <td>7.420904</td>\n",
       "      <td>-58.441664</td>\n",
       "      <td>-34.619700</td>\n",
       "      <td>42.068085</td>\n",
       "    </tr>\n",
       "    <tr>\n",
       "      <th>std</th>\n",
       "      <td>0.253709</td>\n",
       "      <td>1.670738</td>\n",
       "      <td>3.582472</td>\n",
       "      <td>8.659417</td>\n",
       "      <td>6.687738</td>\n",
       "      <td>4.380517</td>\n",
       "      <td>0.046397</td>\n",
       "      <td>0.035292</td>\n",
       "      <td>19.269350</td>\n",
       "    </tr>\n",
       "    <tr>\n",
       "      <th>min</th>\n",
       "      <td>1.000000</td>\n",
       "      <td>2016.000000</td>\n",
       "      <td>1.000000</td>\n",
       "      <td>1.000000</td>\n",
       "      <td>0.000000</td>\n",
       "      <td>0.000000</td>\n",
       "      <td>-58.529942</td>\n",
       "      <td>-34.705250</td>\n",
       "      <td>1.000000</td>\n",
       "    </tr>\n",
       "    <tr>\n",
       "      <th>25%</th>\n",
       "      <td>1.000000</td>\n",
       "      <td>2017.000000</td>\n",
       "      <td>4.000000</td>\n",
       "      <td>9.000000</td>\n",
       "      <td>6.000000</td>\n",
       "      <td>4.000000</td>\n",
       "      <td>-58.476556</td>\n",
       "      <td>-34.643918</td>\n",
       "      <td>28.000000</td>\n",
       "    </tr>\n",
       "    <tr>\n",
       "      <th>50%</th>\n",
       "      <td>1.000000</td>\n",
       "      <td>2018.000000</td>\n",
       "      <td>7.000000</td>\n",
       "      <td>16.000000</td>\n",
       "      <td>11.000000</td>\n",
       "      <td>8.000000</td>\n",
       "      <td>-58.444513</td>\n",
       "      <td>-34.622866</td>\n",
       "      <td>36.000000</td>\n",
       "    </tr>\n",
       "    <tr>\n",
       "      <th>75%</th>\n",
       "      <td>1.000000</td>\n",
       "      <td>2019.000000</td>\n",
       "      <td>10.000000</td>\n",
       "      <td>23.000000</td>\n",
       "      <td>17.000000</td>\n",
       "      <td>11.000000</td>\n",
       "      <td>-58.401841</td>\n",
       "      <td>-34.597013</td>\n",
       "      <td>55.000000</td>\n",
       "    </tr>\n",
       "    <tr>\n",
       "      <th>max</th>\n",
       "      <td>3.000000</td>\n",
       "      <td>2021.000000</td>\n",
       "      <td>12.000000</td>\n",
       "      <td>31.000000</td>\n",
       "      <td>23.000000</td>\n",
       "      <td>15.000000</td>\n",
       "      <td>-58.356082</td>\n",
       "      <td>-34.534654</td>\n",
       "      <td>95.000000</td>\n",
       "    </tr>\n",
       "  </tbody>\n",
       "</table>\n",
       "</div>"
      ],
      "text/plain": [
       "       Nro Victimas          Año         Mes         Dia  Franja Horaria  \\\n",
       "count    708.000000   708.000000  708.000000  708.000000      708.000000   \n",
       "mean       1.059322  2018.182203    6.703390   15.932203       11.550847   \n",
       "std        0.253709     1.670738    3.582472    8.659417        6.687738   \n",
       "min        1.000000  2016.000000    1.000000    1.000000        0.000000   \n",
       "25%        1.000000  2017.000000    4.000000    9.000000        6.000000   \n",
       "50%        1.000000  2018.000000    7.000000   16.000000       11.000000   \n",
       "75%        1.000000  2019.000000   10.000000   23.000000       17.000000   \n",
       "max        3.000000  2021.000000   12.000000   31.000000       23.000000   \n",
       "\n",
       "           Comuna    Longitud     Latitud        Edad  \n",
       "count  708.000000  704.000000  704.000000  705.000000  \n",
       "mean     7.420904  -58.441664  -34.619700   42.068085  \n",
       "std      4.380517    0.046397    0.035292   19.269350  \n",
       "min      0.000000  -58.529942  -34.705250    1.000000  \n",
       "25%      4.000000  -58.476556  -34.643918   28.000000  \n",
       "50%      8.000000  -58.444513  -34.622866   36.000000  \n",
       "75%     11.000000  -58.401841  -34.597013   55.000000  \n",
       "max     15.000000  -58.356082  -34.534654   95.000000  "
      ]
     },
     "execution_count": 19,
     "metadata": {},
     "output_type": "execute_result"
    }
   ],
   "source": [
    "df_siniestros.describe()"
   ]
  }
 ],
 "metadata": {
  "kernelspec": {
   "display_name": "venv",
   "language": "python",
   "name": "python3"
  },
  "language_info": {
   "codemirror_mode": {
    "name": "ipython",
    "version": 3
   },
   "file_extension": ".py",
   "mimetype": "text/x-python",
   "name": "python",
   "nbconvert_exporter": "python",
   "pygments_lexer": "ipython3",
   "version": "3.11.6"
  }
 },
 "nbformat": 4,
 "nbformat_minor": 2
}

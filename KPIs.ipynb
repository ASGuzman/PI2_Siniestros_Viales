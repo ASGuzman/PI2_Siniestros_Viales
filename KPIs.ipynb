{
 "cells": [
  {
   "cell_type": "markdown",
   "metadata": {},
   "source": [
    "# KPIs"
   ]
  },
  {
   "cell_type": "markdown",
   "metadata": {},
   "source": [
    "En este apartado realizaremos la creacion de los dataframes necesarios para el calculo de cada KPIs a apartir del dataframe orginal que es el df_siniestros"
   ]
  },
  {
   "cell_type": "markdown",
   "metadata": {},
   "source": [
    "## 1. Importamos librerias necesarias"
   ]
  },
  {
   "cell_type": "code",
   "execution_count": 53,
   "metadata": {},
   "outputs": [],
   "source": [
    "import pandas as pd\n",
    "import numpy as np\n",
    "import warnings\n",
    "warnings.filterwarnings(\"ignore\")"
   ]
  },
  {
   "cell_type": "markdown",
   "metadata": {},
   "source": [
    "## 2. Importamos los datos originales"
   ]
  },
  {
   "cell_type": "code",
   "execution_count": 54,
   "metadata": {},
   "outputs": [],
   "source": [
    "df_siniestros = pd.read_csv(\"Datasets\\df_siniestros.csv\")"
   ]
  },
  {
   "cell_type": "markdown",
   "metadata": {},
   "source": [
    "# KPI 1\n",
    "### Reducir en un 10% la tasa de homicidios en siniestros viales de los últimos seis meses, en CABA, en comparación con la tasa de homicidios en siniestros viales del semestre anterior."
   ]
  },
  {
   "cell_type": "markdown",
   "metadata": {},
   "source": [
    "## 1. Creamos una nueva variable \"Semestre\" que basicamente divide cada año en dos partes"
   ]
  },
  {
   "cell_type": "code",
   "execution_count": 55,
   "metadata": {},
   "outputs": [],
   "source": [
    "df_siniestros[\"Semestre\"] = df_siniestros[\"Mes\"].apply(lambda x: 1 if x <= 6 else 2)"
   ]
  },
  {
   "cell_type": "markdown",
   "metadata": {},
   "source": [
    "## 2. Una vez que tenemos la columna Semestres realizamos la agrupacion por Año y Semestre para poder sumar la cantidad de homicidios que corresponde a cada uno"
   ]
  },
  {
   "cell_type": "code",
   "execution_count": 56,
   "metadata": {},
   "outputs": [],
   "source": [
    "df_agrupado_semestral = df_siniestros.groupby([\"Año\",\"Semestre\"]).size().reset_index(name=\"Homicidios\")"
   ]
  },
  {
   "cell_type": "markdown",
   "metadata": {},
   "source": [
    "## 3. Calculamos una nueva variable Homicidios Semestre Anterior donde se calcula para cada semestre anterior la cantidad de homicidios"
   ]
  },
  {
   "cell_type": "code",
   "execution_count": 59,
   "metadata": {},
   "outputs": [],
   "source": [
    "df_agrupado_semestral[\"SemestreAnterior\"] = df_agrupado_semestral[\"Homicidios\"].shift(periods=1, fill_value=0)"
   ]
  },
  {
   "cell_type": "markdown",
   "metadata": {},
   "source": [
    "## 4. Calculamos la tasa de homicidios para cada semestre cada 100000 habitantes"
   ]
  },
  {
   "cell_type": "code",
   "execution_count": 60,
   "metadata": {},
   "outputs": [],
   "source": [
    "df_agrupado_semestral[\"TasaHomicidios\"] = (df_agrupado_semestral[\"Homicidios\"]/3120612) * 100000\n",
    "df_agrupado_semestral[\"TasaSemestreAnterior\"] = (df_agrupado_semestral[\"SemestreAnterior\"]/3120612) * 100000"
   ]
  },
  {
   "cell_type": "markdown",
   "metadata": {},
   "source": [
    "## 5. Creamos una nueva variable: \"Diferencia Porcentual\""
   ]
  },
  {
   "cell_type": "code",
   "execution_count": 61,
   "metadata": {},
   "outputs": [],
   "source": [
    "df_agrupado_semestral[\"Diferencia Porcentual\"] = (df_agrupado_semestral[\"TasaHomicidios\"] - df_agrupado_semestral[\"TasaSemestreAnterior\"]) / df_agrupado_semestral[\"TasaSemestreAnterior\"] * 100"
   ]
  },
  {
   "cell_type": "markdown",
   "metadata": {},
   "source": [
    "## 6. Cargamos el nuevo dataframe"
   ]
  },
  {
   "cell_type": "code",
   "execution_count": 62,
   "metadata": {},
   "outputs": [],
   "source": [
    "df_agrupado_semestral_csv = \"Datasets/df_kpi1.csv\"\n",
    "df_agrupado_semestral.to_csv(df_agrupado_semestral_csv, index=False)"
   ]
  },
  {
   "cell_type": "markdown",
   "metadata": {},
   "source": [
    "# KPI 2\n",
    "### Reducir en un 7% la cantidad de accidentes mortales de motociclistas en el último año, en CABA, respecto al año anterior."
   ]
  },
  {
   "cell_type": "markdown",
   "metadata": {},
   "source": [
    "## 1. Filtramos y seleccionamos aquellos registros donde la victima es motociclista"
   ]
  },
  {
   "cell_type": "code",
   "execution_count": 63,
   "metadata": {},
   "outputs": [],
   "source": [
    "df_kpi2 = df_siniestros[(df_siniestros[\"Victima\"] == \"MOTO\")]"
   ]
  },
  {
   "cell_type": "markdown",
   "metadata": {},
   "source": [
    "## 2. Agrupamos por Año y contamos la cantidad de homicidios"
   ]
  },
  {
   "cell_type": "code",
   "execution_count": 64,
   "metadata": {},
   "outputs": [],
   "source": [
    "df_kpi2 = df_kpi2.groupby([\"Año\"]).size().reset_index(name=\"Homicidios\")"
   ]
  },
  {
   "cell_type": "markdown",
   "metadata": {},
   "source": [
    "## 3. Creacion de la nueva variable Año anterior donde se indica la cantidad de homicidios ocurridos el año anterior "
   ]
  },
  {
   "cell_type": "code",
   "execution_count": 65,
   "metadata": {},
   "outputs": [],
   "source": [
    "df_kpi2[\"Año_Anterior\"] = df_kpi2[\"Homicidios\"].shift(periods=1, fill_value=0)"
   ]
  },
  {
   "cell_type": "markdown",
   "metadata": {},
   "source": [
    "## 4. Obtenemos la tasa de homicidios cada 100000 habitantes teniendo en cuenta que la poblacion de Cuidad Autonoma de Buenos Aires al censo 2022 es de 3,120,612"
   ]
  },
  {
   "cell_type": "code",
   "execution_count": 66,
   "metadata": {},
   "outputs": [],
   "source": [
    "poblacion_caba = 3120612\n",
    "df_kpi2[\"Tasa_Homicidios\"] = (df_kpi2[\"Homicidios\"] / poblacion_caba) * 100000\n",
    "df_kpi2[\"Tasa_Año_Anterior\"] = (df_kpi2[\"Año_Anterior\"] / poblacion_caba) * 100000"
   ]
  },
  {
   "cell_type": "markdown",
   "metadata": {},
   "source": [
    "## 5. Creacion de la variable Variacion Porcentual"
   ]
  },
  {
   "cell_type": "code",
   "execution_count": 67,
   "metadata": {},
   "outputs": [
    {
     "data": {
      "text/html": [
       "<div>\n",
       "<style scoped>\n",
       "    .dataframe tbody tr th:only-of-type {\n",
       "        vertical-align: middle;\n",
       "    }\n",
       "\n",
       "    .dataframe tbody tr th {\n",
       "        vertical-align: top;\n",
       "    }\n",
       "\n",
       "    .dataframe thead th {\n",
       "        text-align: right;\n",
       "    }\n",
       "</style>\n",
       "<table border=\"1\" class=\"dataframe\">\n",
       "  <thead>\n",
       "    <tr style=\"text-align: right;\">\n",
       "      <th></th>\n",
       "      <th>Año</th>\n",
       "      <th>Homicidios</th>\n",
       "      <th>Año_Anterior</th>\n",
       "      <th>Tasa_Homicidios</th>\n",
       "      <th>Tasa_Año_Anterior</th>\n",
       "      <th>Variacion</th>\n",
       "    </tr>\n",
       "  </thead>\n",
       "  <tbody>\n",
       "    <tr>\n",
       "      <th>0</th>\n",
       "      <td>2016</td>\n",
       "      <td>63</td>\n",
       "      <td>0</td>\n",
       "      <td>2.018835</td>\n",
       "      <td>0.000000</td>\n",
       "      <td>NaN</td>\n",
       "    </tr>\n",
       "    <tr>\n",
       "      <th>1</th>\n",
       "      <td>2017</td>\n",
       "      <td>54</td>\n",
       "      <td>63</td>\n",
       "      <td>1.730430</td>\n",
       "      <td>2.018835</td>\n",
       "      <td>-14.285714</td>\n",
       "    </tr>\n",
       "    <tr>\n",
       "      <th>2</th>\n",
       "      <td>2018</td>\n",
       "      <td>57</td>\n",
       "      <td>54</td>\n",
       "      <td>1.826565</td>\n",
       "      <td>1.730430</td>\n",
       "      <td>5.555556</td>\n",
       "    </tr>\n",
       "    <tr>\n",
       "      <th>3</th>\n",
       "      <td>2019</td>\n",
       "      <td>50</td>\n",
       "      <td>57</td>\n",
       "      <td>1.602250</td>\n",
       "      <td>1.826565</td>\n",
       "      <td>-12.280702</td>\n",
       "    </tr>\n",
       "    <tr>\n",
       "      <th>4</th>\n",
       "      <td>2020</td>\n",
       "      <td>27</td>\n",
       "      <td>50</td>\n",
       "      <td>0.865215</td>\n",
       "      <td>1.602250</td>\n",
       "      <td>-46.000000</td>\n",
       "    </tr>\n",
       "    <tr>\n",
       "      <th>5</th>\n",
       "      <td>2021</td>\n",
       "      <td>45</td>\n",
       "      <td>27</td>\n",
       "      <td>1.442025</td>\n",
       "      <td>0.865215</td>\n",
       "      <td>66.666667</td>\n",
       "    </tr>\n",
       "  </tbody>\n",
       "</table>\n",
       "</div>"
      ],
      "text/plain": [
       "    Año  Homicidios  Año_Anterior  Tasa_Homicidios  Tasa_Año_Anterior  \\\n",
       "0  2016          63             0         2.018835           0.000000   \n",
       "1  2017          54            63         1.730430           2.018835   \n",
       "2  2018          57            54         1.826565           1.730430   \n",
       "3  2019          50            57         1.602250           1.826565   \n",
       "4  2020          27            50         0.865215           1.602250   \n",
       "5  2021          45            27         1.442025           0.865215   \n",
       "\n",
       "   Variacion  \n",
       "0        NaN  \n",
       "1 -14.285714  \n",
       "2   5.555556  \n",
       "3 -12.280702  \n",
       "4 -46.000000  \n",
       "5  66.666667  "
      ]
     },
     "execution_count": 67,
     "metadata": {},
     "output_type": "execute_result"
    }
   ],
   "source": [
    "df_kpi2[\"Variacion\"] = ((df_kpi2[\"Tasa_Homicidios\"] - df_kpi2[\"Tasa_Año_Anterior\"]) / df_kpi2[\"Tasa_Año_Anterior\"]) * 100\n",
    "df_kpi2[\"Variacion\"] = df_kpi2[\"Variacion\"].replace([np.inf, -np.inf], np.nan)\n",
    "df_kpi2"
   ]
  },
  {
   "cell_type": "markdown",
   "metadata": {},
   "source": [
    "## 6. Cargamos el nuevo dataframe"
   ]
  },
  {
   "cell_type": "code",
   "execution_count": 68,
   "metadata": {},
   "outputs": [],
   "source": [
    "df_kpi2_csv = \"Datasets/df_kpi2.csv\"\n",
    "df_kpi2.to_csv(df_kpi2_csv, index=False)"
   ]
  }
 ],
 "metadata": {
  "kernelspec": {
   "display_name": "venv",
   "language": "python",
   "name": "python3"
  },
  "language_info": {
   "codemirror_mode": {
    "name": "ipython",
    "version": 3
   },
   "file_extension": ".py",
   "mimetype": "text/x-python",
   "name": "python",
   "nbconvert_exporter": "python",
   "pygments_lexer": "ipython3",
   "version": "3.11.6"
  }
 },
 "nbformat": 4,
 "nbformat_minor": 2
}

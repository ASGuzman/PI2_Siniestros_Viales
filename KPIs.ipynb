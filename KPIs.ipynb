{
 "cells": [
  {
   "cell_type": "markdown",
   "metadata": {},
   "source": [
    "# KPIs"
   ]
  },
  {
   "cell_type": "markdown",
   "metadata": {},
   "source": [
    "En este apartado realizaremos la creacion de los dataframes necesarios para el calculo de cada KPIs a apartir del dataframe orginal que es el df_siniestros"
   ]
  },
  {
   "cell_type": "markdown",
   "metadata": {},
   "source": [
    "## 1. Importamos librerias necesarias"
   ]
  },
  {
   "cell_type": "code",
   "execution_count": 1,
   "metadata": {},
   "outputs": [],
   "source": [
    "import pandas as pd\n",
    "import numpy as np\n",
    "import warnings\n",
    "warnings.filterwarnings(\"ignore\")"
   ]
  },
  {
   "cell_type": "markdown",
   "metadata": {},
   "source": [
    "## 2. Importamos los datos originales"
   ]
  },
  {
   "cell_type": "code",
   "execution_count": 2,
   "metadata": {},
   "outputs": [],
   "source": [
    "df_siniestros = pd.read_csv(\"Datasets\\df_siniestros.csv\")"
   ]
  },
  {
   "cell_type": "markdown",
   "metadata": {},
   "source": [
    "# KPI 1\n",
    "### Reducir en un 10% la tasa de homicidios en siniestros viales de los últimos seis meses, en CABA, en comparación con la tasa de homicidios en siniestros viales del semestre anterior."
   ]
  },
  {
   "cell_type": "markdown",
   "metadata": {},
   "source": [
    "## 1. Creamos una nueva variable \"Semestre\" que basicamente divide cada año en dos partes"
   ]
  },
  {
   "cell_type": "code",
   "execution_count": 3,
   "metadata": {},
   "outputs": [],
   "source": [
    "df_siniestros[\"Semestre\"] = df_siniestros[\"Mes\"].apply(lambda x: 1 if x <= 6 else 2)"
   ]
  },
  {
   "cell_type": "markdown",
   "metadata": {},
   "source": [
    "## 2. Una vez que tenemos la columna Semestres realizamos la agrupacion por Año y Semestre para poder sumar la cantidad de homicidios que corresponde a cada uno"
   ]
  },
  {
   "cell_type": "code",
   "execution_count": 4,
   "metadata": {},
   "outputs": [],
   "source": [
    "df_agrupado = df_siniestros.groupby([\"Año\",\"Semestre\"]).agg({\"Nro Victimas\": \"sum\"}).reset_index()"
   ]
  },
  {
   "cell_type": "markdown",
   "metadata": {},
   "source": [
    "## 3. Cuando los datos ya se encuentran agrupados creamos un dataframe final y le agregamos las columnas necesarias"
   ]
  },
  {
   "cell_type": "code",
   "execution_count": 5,
   "metadata": {},
   "outputs": [],
   "source": [
    "df_kpi1 = pd.DataFrame()\n",
    "df_kpi1[\"Año\"] = df_agrupado[\"Año\"]\n",
    "df_kpi1[\"Semestre\"] = df_agrupado[\"Semestre\"]\n",
    "df_kpi1[\"Homicidios Semestre Actual\"] = df_agrupado[\"Nro Victimas\"]"
   ]
  },
  {
   "cell_type": "markdown",
   "metadata": {},
   "source": [
    "## 4. Calculamos una nueva variable Homicidios Semestre Anterior donde se calcula para cada semestre anterior al que se posiciona la tasa de homicidios"
   ]
  },
  {
   "cell_type": "code",
   "execution_count": 6,
   "metadata": {},
   "outputs": [],
   "source": [
    "df_agrupado[\"Homicidios Semestre Anterior\"] = df_agrupado[\"Nro Victimas\"].shift()"
   ]
  },
  {
   "cell_type": "markdown",
   "metadata": {},
   "source": [
    "## 5. Añadimos la columna Homicidios Semestre Anterior al dataframe final"
   ]
  },
  {
   "cell_type": "code",
   "execution_count": 7,
   "metadata": {},
   "outputs": [],
   "source": [
    "df_kpi1[\"Homicidios Semestre Anterior\"] = df_agrupado[\"Homicidios Semestre Anterior\"]"
   ]
  },
  {
   "cell_type": "markdown",
   "metadata": {},
   "source": [
    "## 6. Creamos una nueva variable: \"Diferencia Porcentual\""
   ]
  },
  {
   "cell_type": "code",
   "execution_count": 8,
   "metadata": {},
   "outputs": [
    {
     "data": {
      "text/html": [
       "<div>\n",
       "<style scoped>\n",
       "    .dataframe tbody tr th:only-of-type {\n",
       "        vertical-align: middle;\n",
       "    }\n",
       "\n",
       "    .dataframe tbody tr th {\n",
       "        vertical-align: top;\n",
       "    }\n",
       "\n",
       "    .dataframe thead th {\n",
       "        text-align: right;\n",
       "    }\n",
       "</style>\n",
       "<table border=\"1\" class=\"dataframe\">\n",
       "  <thead>\n",
       "    <tr style=\"text-align: right;\">\n",
       "      <th></th>\n",
       "      <th>Año</th>\n",
       "      <th>Semestre</th>\n",
       "      <th>Homicidios Semestre Actual</th>\n",
       "      <th>Homicidios Semestre Anterior</th>\n",
       "      <th>Porcentual Diferencia</th>\n",
       "    </tr>\n",
       "  </thead>\n",
       "  <tbody>\n",
       "    <tr>\n",
       "      <th>0</th>\n",
       "      <td>2016</td>\n",
       "      <td>1</td>\n",
       "      <td>66</td>\n",
       "      <td>NaN</td>\n",
       "      <td>NaN</td>\n",
       "    </tr>\n",
       "    <tr>\n",
       "      <th>1</th>\n",
       "      <td>2016</td>\n",
       "      <td>2</td>\n",
       "      <td>80</td>\n",
       "      <td>66.0</td>\n",
       "      <td>21.212121</td>\n",
       "    </tr>\n",
       "    <tr>\n",
       "      <th>2</th>\n",
       "      <td>2017</td>\n",
       "      <td>1</td>\n",
       "      <td>76</td>\n",
       "      <td>80.0</td>\n",
       "      <td>-5.000000</td>\n",
       "    </tr>\n",
       "    <tr>\n",
       "      <th>3</th>\n",
       "      <td>2017</td>\n",
       "      <td>2</td>\n",
       "      <td>79</td>\n",
       "      <td>76.0</td>\n",
       "      <td>3.947368</td>\n",
       "    </tr>\n",
       "    <tr>\n",
       "      <th>4</th>\n",
       "      <td>2018</td>\n",
       "      <td>1</td>\n",
       "      <td>75</td>\n",
       "      <td>79.0</td>\n",
       "      <td>-5.063291</td>\n",
       "    </tr>\n",
       "    <tr>\n",
       "      <th>5</th>\n",
       "      <td>2018</td>\n",
       "      <td>2</td>\n",
       "      <td>85</td>\n",
       "      <td>75.0</td>\n",
       "      <td>13.333333</td>\n",
       "    </tr>\n",
       "    <tr>\n",
       "      <th>6</th>\n",
       "      <td>2019</td>\n",
       "      <td>1</td>\n",
       "      <td>59</td>\n",
       "      <td>85.0</td>\n",
       "      <td>-30.588235</td>\n",
       "    </tr>\n",
       "    <tr>\n",
       "      <th>7</th>\n",
       "      <td>2019</td>\n",
       "      <td>2</td>\n",
       "      <td>47</td>\n",
       "      <td>59.0</td>\n",
       "      <td>-20.338983</td>\n",
       "    </tr>\n",
       "    <tr>\n",
       "      <th>8</th>\n",
       "      <td>2020</td>\n",
       "      <td>1</td>\n",
       "      <td>30</td>\n",
       "      <td>47.0</td>\n",
       "      <td>-36.170213</td>\n",
       "    </tr>\n",
       "    <tr>\n",
       "      <th>9</th>\n",
       "      <td>2020</td>\n",
       "      <td>2</td>\n",
       "      <td>56</td>\n",
       "      <td>30.0</td>\n",
       "      <td>86.666667</td>\n",
       "    </tr>\n",
       "    <tr>\n",
       "      <th>10</th>\n",
       "      <td>2021</td>\n",
       "      <td>1</td>\n",
       "      <td>54</td>\n",
       "      <td>56.0</td>\n",
       "      <td>-3.571429</td>\n",
       "    </tr>\n",
       "    <tr>\n",
       "      <th>11</th>\n",
       "      <td>2021</td>\n",
       "      <td>2</td>\n",
       "      <td>42</td>\n",
       "      <td>54.0</td>\n",
       "      <td>-22.222222</td>\n",
       "    </tr>\n",
       "  </tbody>\n",
       "</table>\n",
       "</div>"
      ],
      "text/plain": [
       "     Año  Semestre  Homicidios Semestre Actual  Homicidios Semestre Anterior  \\\n",
       "0   2016         1                          66                           NaN   \n",
       "1   2016         2                          80                          66.0   \n",
       "2   2017         1                          76                          80.0   \n",
       "3   2017         2                          79                          76.0   \n",
       "4   2018         1                          75                          79.0   \n",
       "5   2018         2                          85                          75.0   \n",
       "6   2019         1                          59                          85.0   \n",
       "7   2019         2                          47                          59.0   \n",
       "8   2020         1                          30                          47.0   \n",
       "9   2020         2                          56                          30.0   \n",
       "10  2021         1                          54                          56.0   \n",
       "11  2021         2                          42                          54.0   \n",
       "\n",
       "    Porcentual Diferencia  \n",
       "0                     NaN  \n",
       "1               21.212121  \n",
       "2               -5.000000  \n",
       "3                3.947368  \n",
       "4               -5.063291  \n",
       "5               13.333333  \n",
       "6              -30.588235  \n",
       "7              -20.338983  \n",
       "8              -36.170213  \n",
       "9               86.666667  \n",
       "10              -3.571429  \n",
       "11             -22.222222  "
      ]
     },
     "execution_count": 8,
     "metadata": {},
     "output_type": "execute_result"
    }
   ],
   "source": [
    "df_kpi1[\"Porcentual Diferencia\"] = ((df_kpi1[\"Homicidios Semestre Actual\"] - df_kpi1[\"Homicidios Semestre Anterior\"]) / df_kpi1[\"Homicidios Semestre Anterior\"]) * 100\n",
    "\n",
    "df_kpi1"
   ]
  },
  {
   "cell_type": "code",
   "execution_count": 9,
   "metadata": {},
   "outputs": [
    {
     "name": "stdout",
     "output_type": "stream",
     "text": [
      "<class 'pandas.core.frame.DataFrame'>\n",
      "RangeIndex: 12 entries, 0 to 11\n",
      "Data columns (total 5 columns):\n",
      " #   Column                        Non-Null Count  Dtype  \n",
      "---  ------                        --------------  -----  \n",
      " 0   Año                           12 non-null     int64  \n",
      " 1   Semestre                      12 non-null     int64  \n",
      " 2   Homicidios Semestre Actual    12 non-null     int64  \n",
      " 3   Homicidios Semestre Anterior  11 non-null     float64\n",
      " 4   Porcentual Diferencia         11 non-null     float64\n",
      "dtypes: float64(2), int64(3)\n",
      "memory usage: 612.0 bytes\n"
     ]
    }
   ],
   "source": [
    "df_kpi1.info()"
   ]
  },
  {
   "cell_type": "markdown",
   "metadata": {},
   "source": [
    "## 7. Cargamos el nuevo dataframe"
   ]
  },
  {
   "cell_type": "code",
   "execution_count": 31,
   "metadata": {},
   "outputs": [],
   "source": [
    "df_kpi1_csv = \"Datasets/df_kpi1.csv\"\n",
    "df_kpi1.to_csv(df_kpi1_csv, index=False)"
   ]
  },
  {
   "cell_type": "markdown",
   "metadata": {},
   "source": [
    "# KPI 2\n",
    "### Reducir en un 7% la cantidad de accidentes mortales de motociclistas en el último año, en CABA, respecto al año anterior."
   ]
  },
  {
   "cell_type": "markdown",
   "metadata": {},
   "source": [
    "## 1. Filtramos y seleccionamos aquellos registros donde la victima es motociclista"
   ]
  },
  {
   "cell_type": "code",
   "execution_count": 12,
   "metadata": {},
   "outputs": [],
   "source": [
    "df_kpi2 = df_siniestros[(df_siniestros[\"Victima\"] == \"MOTO\")]"
   ]
  },
  {
   "cell_type": "markdown",
   "metadata": {},
   "source": [
    "## 2. Agrupamos por Año y contamos la cantidad de homicidios"
   ]
  },
  {
   "cell_type": "code",
   "execution_count": 13,
   "metadata": {},
   "outputs": [],
   "source": [
    "df_kpi2 = df_kpi2.groupby([\"Año\"]).size().reset_index(name=\"Homicidios\")"
   ]
  },
  {
   "cell_type": "markdown",
   "metadata": {},
   "source": [
    "## 3. Creacion de la nueva variable Año anterior donde se indica la cantidad de homicidios ocurridos el año anterior "
   ]
  },
  {
   "cell_type": "code",
   "execution_count": 14,
   "metadata": {},
   "outputs": [],
   "source": [
    "df_kpi2[\"Año_Anterior\"] = df_kpi2[\"Homicidios\"].shift(periods=1, fill_value=0)"
   ]
  },
  {
   "cell_type": "markdown",
   "metadata": {},
   "source": [
    "## 4. Obtenemos la tasa de homicidios cada 100000 habitantes teniendo en cuenta que la poblacion de Cuidad Autonoma de Buenos Aires al censo 2022 es de 3,120,612"
   ]
  },
  {
   "cell_type": "code",
   "execution_count": 15,
   "metadata": {},
   "outputs": [],
   "source": [
    "poblacion_caba = 3120612\n",
    "df_kpi2[\"Tasa_Homicidios\"] = (df_kpi2[\"Homicidios\"] / poblacion_caba) * 100000\n",
    "df_kpi2[\"Tasa_Año_Anterior\"] = (df_kpi2[\"Año_Anterior\"] / poblacion_caba) * 100000"
   ]
  },
  {
   "cell_type": "markdown",
   "metadata": {},
   "source": [
    "## 5. Creacion de la variable Variacion Porcentual"
   ]
  },
  {
   "cell_type": "code",
   "execution_count": 16,
   "metadata": {},
   "outputs": [
    {
     "data": {
      "text/html": [
       "<div>\n",
       "<style scoped>\n",
       "    .dataframe tbody tr th:only-of-type {\n",
       "        vertical-align: middle;\n",
       "    }\n",
       "\n",
       "    .dataframe tbody tr th {\n",
       "        vertical-align: top;\n",
       "    }\n",
       "\n",
       "    .dataframe thead th {\n",
       "        text-align: right;\n",
       "    }\n",
       "</style>\n",
       "<table border=\"1\" class=\"dataframe\">\n",
       "  <thead>\n",
       "    <tr style=\"text-align: right;\">\n",
       "      <th></th>\n",
       "      <th>Año</th>\n",
       "      <th>Homicidios</th>\n",
       "      <th>Año_Anterior</th>\n",
       "      <th>Tasa_Homicidios</th>\n",
       "      <th>Tasa_Año_Anterior</th>\n",
       "      <th>Variacion</th>\n",
       "    </tr>\n",
       "  </thead>\n",
       "  <tbody>\n",
       "    <tr>\n",
       "      <th>0</th>\n",
       "      <td>2016</td>\n",
       "      <td>63</td>\n",
       "      <td>0</td>\n",
       "      <td>2.018835</td>\n",
       "      <td>0.000000</td>\n",
       "      <td>NaN</td>\n",
       "    </tr>\n",
       "    <tr>\n",
       "      <th>1</th>\n",
       "      <td>2017</td>\n",
       "      <td>54</td>\n",
       "      <td>63</td>\n",
       "      <td>1.730430</td>\n",
       "      <td>2.018835</td>\n",
       "      <td>-14.285714</td>\n",
       "    </tr>\n",
       "    <tr>\n",
       "      <th>2</th>\n",
       "      <td>2018</td>\n",
       "      <td>57</td>\n",
       "      <td>54</td>\n",
       "      <td>1.826565</td>\n",
       "      <td>1.730430</td>\n",
       "      <td>5.555556</td>\n",
       "    </tr>\n",
       "    <tr>\n",
       "      <th>3</th>\n",
       "      <td>2019</td>\n",
       "      <td>50</td>\n",
       "      <td>57</td>\n",
       "      <td>1.602250</td>\n",
       "      <td>1.826565</td>\n",
       "      <td>-12.280702</td>\n",
       "    </tr>\n",
       "    <tr>\n",
       "      <th>4</th>\n",
       "      <td>2020</td>\n",
       "      <td>27</td>\n",
       "      <td>50</td>\n",
       "      <td>0.865215</td>\n",
       "      <td>1.602250</td>\n",
       "      <td>-46.000000</td>\n",
       "    </tr>\n",
       "    <tr>\n",
       "      <th>5</th>\n",
       "      <td>2021</td>\n",
       "      <td>45</td>\n",
       "      <td>27</td>\n",
       "      <td>1.442025</td>\n",
       "      <td>0.865215</td>\n",
       "      <td>66.666667</td>\n",
       "    </tr>\n",
       "  </tbody>\n",
       "</table>\n",
       "</div>"
      ],
      "text/plain": [
       "    Año  Homicidios  Año_Anterior  Tasa_Homicidios  Tasa_Año_Anterior  \\\n",
       "0  2016          63             0         2.018835           0.000000   \n",
       "1  2017          54            63         1.730430           2.018835   \n",
       "2  2018          57            54         1.826565           1.730430   \n",
       "3  2019          50            57         1.602250           1.826565   \n",
       "4  2020          27            50         0.865215           1.602250   \n",
       "5  2021          45            27         1.442025           0.865215   \n",
       "\n",
       "   Variacion  \n",
       "0        NaN  \n",
       "1 -14.285714  \n",
       "2   5.555556  \n",
       "3 -12.280702  \n",
       "4 -46.000000  \n",
       "5  66.666667  "
      ]
     },
     "execution_count": 16,
     "metadata": {},
     "output_type": "execute_result"
    }
   ],
   "source": [
    "df_kpi2[\"Variacion\"] = ((df_kpi2[\"Tasa_Homicidios\"] - df_kpi2[\"Tasa_Año_Anterior\"]) / df_kpi2[\"Tasa_Año_Anterior\"]) * 100\n",
    "df_kpi2[\"Variacion\"] = df_kpi2[\"Variacion\"].replace([np.inf, -np.inf], np.nan)\n",
    "df_kpi2"
   ]
  },
  {
   "cell_type": "markdown",
   "metadata": {},
   "source": [
    "## 6. Cargamos el nuevo dataframe"
   ]
  },
  {
   "cell_type": "code",
   "execution_count": 17,
   "metadata": {},
   "outputs": [],
   "source": [
    "df_kpi2_csv = \"Datasets/df_kpi2.csv\"\n",
    "df_kpi2.to_csv(df_kpi2_csv, index=False)"
   ]
  }
 ],
 "metadata": {
  "kernelspec": {
   "display_name": "venv",
   "language": "python",
   "name": "python3"
  },
  "language_info": {
   "codemirror_mode": {
    "name": "ipython",
    "version": 3
   },
   "file_extension": ".py",
   "mimetype": "text/x-python",
   "name": "python",
   "nbconvert_exporter": "python",
   "pygments_lexer": "ipython3",
   "version": "3.11.6"
  }
 },
 "nbformat": 4,
 "nbformat_minor": 2
}
